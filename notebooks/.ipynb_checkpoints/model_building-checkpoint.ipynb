{
 "cells": [
  {
   "cell_type": "markdown",
   "metadata": {},
   "source": [
    "Build a regression model."
   ]
  },
  {
   "cell_type": "code",
   "execution_count": 26,
   "metadata": {},
   "outputs": [],
   "source": [
    "import pandas as pd\n",
    "import numpy as np\n",
    "import matplotlib.pyplot as plt\n",
    "import seaborn as sns\n",
    "import statsmodels.api as sm"
   ]
  },
  {
   "cell_type": "code",
   "execution_count": 3,
   "metadata": {},
   "outputs": [],
   "source": [
    "fulldf = pd.read_csv('fulldf.csv')"
   ]
  },
  {
   "cell_type": "code",
   "execution_count": 11,
   "metadata": {},
   "outputs": [
    {
     "data": {
      "text/plain": [
       "name                       0\n",
       "address                  571\n",
       "freebikes                  0\n",
       "slots                      0\n",
       "latitude                   0\n",
       "longitude                  0\n",
       "ll                         0\n",
       "review_count               0\n",
       "Bar                        0\n",
       "POI                        0\n",
       "Restaurant                 0\n",
       "avg_bar_rating             0\n",
       "avg_poi_rating             0\n",
       "avg_restaurant_rating      0\n",
       "dtype: int64"
      ]
     },
     "execution_count": 11,
     "metadata": {},
     "output_type": "execute_result"
    }
   ],
   "source": [
    "#drop nulls from rating variables for analysis\n",
    "fulldf = fulldf[(fulldf['avg_bar_rating'].isnull() == False) & (fulldf['avg_poi_rating'].isnull() == False)]\n",
    "fulldf.isnull().sum()"
   ]
  },
  {
   "cell_type": "code",
   "execution_count": 12,
   "metadata": {},
   "outputs": [],
   "source": [
    "#defining variables for all variables model\n",
    "y = fulldf['freebikes']\n",
    "\n",
    "X = fulldf.drop(columns = ['freebikes','slots','name','address','ll'])\n",
    "X = sm.add_constant(X)"
   ]
  },
  {
   "cell_type": "code",
   "execution_count": 13,
   "metadata": {
    "tags": []
   },
   "outputs": [
    {
     "name": "stdout",
     "output_type": "stream",
     "text": [
      "                            OLS Regression Results                            \n",
      "==============================================================================\n",
      "Dep. Variable:              freebikes   R-squared:                       0.179\n",
      "Model:                            OLS   Adj. R-squared:                  0.172\n",
      "Method:                 Least Squares   F-statistic:                     27.31\n",
      "Date:                Sat, 22 Apr 2023   Prob (F-statistic):           4.89e-43\n",
      "Time:                        13:45:01   Log-Likelihood:                -3174.1\n",
      "No. Observations:                1137   AIC:                             6368.\n",
      "Df Residuals:                    1127   BIC:                             6419.\n",
      "Df Model:                           9                                         \n",
      "Covariance Type:            nonrobust                                         \n",
      "=========================================================================================\n",
      "                            coef    std err          t      P>|t|      [0.025      0.975]\n",
      "-----------------------------------------------------------------------------------------\n",
      "const                   406.9345    222.280      1.831      0.067     -29.194     843.063\n",
      "latitude                  0.1905      2.308      0.083      0.934      -4.338       4.719\n",
      "longitude                 4.7419      3.071      1.544      0.123      -1.283      10.767\n",
      "review_count          -5.176e-05   1.54e-05     -3.351      0.001   -8.21e-05   -2.15e-05\n",
      "Bar                       0.0979      0.019      5.158      0.000       0.061       0.135\n",
      "POI                       0.1542      0.029      5.332      0.000       0.097       0.211\n",
      "Restaurant                0.0232      0.015      1.598      0.110      -0.005       0.052\n",
      "avg_bar_rating            0.0089      0.120      0.074      0.941      -0.226       0.244\n",
      "avg_poi_rating            0.0941      0.106      0.891      0.373      -0.113       0.301\n",
      "avg_restaurant_rating     0.2040      0.273      0.748      0.454      -0.331       0.739\n",
      "==============================================================================\n",
      "Omnibus:                      326.312   Durbin-Watson:                   1.619\n",
      "Prob(Omnibus):                  0.000   Jarque-Bera (JB):              942.057\n",
      "Skew:                           1.450   Prob(JB):                    2.72e-205\n",
      "Kurtosis:                       6.388   Cond. No.                     3.93e+07\n",
      "==============================================================================\n",
      "\n",
      "Notes:\n",
      "[1] Standard Errors assume that the covariance matrix of the errors is correctly specified.\n",
      "[2] The condition number is large, 3.93e+07. This might indicate that there are\n",
      "strong multicollinearity or other numerical problems.\n"
     ]
    }
   ],
   "source": [
    "model = sm.OLS(y, X)\n",
    "results = model.fit()\n",
    "print(results.summary())"
   ]
  },
  {
   "cell_type": "code",
   "execution_count": 20,
   "metadata": {},
   "outputs": [],
   "source": [
    "#Backwards stepwise model dropping in order: latitude, avg_bar_rating, avg_restaurant_rating, avg_poi_rating\n",
    "X = fulldf.drop(columns = ['freebikes','slots','name','address','ll','latitude','avg_bar_rating','avg_restaurant_rating', 'avg_poi_rating'])\n",
    "X = sm.add_constant(X)"
   ]
  },
  {
   "cell_type": "markdown",
   "metadata": {},
   "source": [
    "Provide model output and an interpretation of the results. "
   ]
  },
  {
   "cell_type": "code",
   "execution_count": 31,
   "metadata": {},
   "outputs": [],
   "source": [
    "from statsmodels.stats.outliers_influence import variance_inflation_factor as vif"
   ]
  },
  {
   "cell_type": "code",
   "execution_count": 41,
   "metadata": {},
   "outputs": [
    {
     "name": "stdout",
     "output_type": "stream",
     "text": [
      "       features           VIF   Pass\n",
      "0         const  2.969632e+06  False\n",
      "1     longitude  1.281849e+00   True\n",
      "2  review_count  5.197292e+00   True\n",
      "3           Bar  6.192768e+00   True\n",
      "4           POI  1.171814e+00   True\n",
      "5    Restaurant  3.089188e+00   True\n"
     ]
    }
   ],
   "source": [
    "#Run VIF \n",
    "vif_data = pd.DataFrame()\n",
    "vif_data[\"features\"] = X.columns\n",
    "\n",
    "vif_data[\"VIF\"] = [vif(X.values,i) for i in range(len(X.columns))]\n",
    "vif_data[\"Pass\"] = vif_data[\"VIF\"]<=10\n",
    "print(vif_data)"
   ]
  },
  {
   "cell_type": "code",
   "execution_count": 22,
   "metadata": {},
   "outputs": [
    {
     "name": "stdout",
     "output_type": "stream",
     "text": [
      "                            OLS Regression Results                            \n",
      "==============================================================================\n",
      "Dep. Variable:              freebikes   R-squared:                       0.177\n",
      "Model:                            OLS   Adj. R-squared:                  0.174\n",
      "Method:                 Least Squares   F-statistic:                     48.72\n",
      "Date:                Sat, 22 Apr 2023   Prob (F-statistic):           9.54e-46\n",
      "Time:                        13:48:59   Log-Likelihood:                -3175.3\n",
      "No. Observations:                1137   AIC:                             6363.\n",
      "Df Residuals:                    1131   BIC:                             6393.\n",
      "Df Model:                           5                                         \n",
      "Covariance Type:            nonrobust                                         \n",
      "================================================================================\n",
      "                   coef    std err          t      P>|t|      [0.025      0.975]\n",
      "--------------------------------------------------------------------------------\n",
      "const          337.1681    202.418      1.666      0.096     -59.989     734.325\n",
      "longitude        3.8509      2.310      1.667      0.096      -0.682       8.384\n",
      "review_count -5.206e-05   1.54e-05     -3.380      0.001   -8.23e-05   -2.18e-05\n",
      "Bar              0.1036      0.018      5.610      0.000       0.067       0.140\n",
      "POI              0.1743      0.024      7.403      0.000       0.128       0.221\n",
      "Restaurant       0.0310      0.013      2.377      0.018       0.005       0.057\n",
      "==============================================================================\n",
      "Omnibus:                      326.658   Durbin-Watson:                   1.621\n",
      "Prob(Omnibus):                  0.000   Jarque-Bera (JB):              941.814\n",
      "Skew:                           1.452   Prob(JB):                    3.07e-205\n",
      "Kurtosis:                       6.384   Cond. No.                     3.58e+07\n",
      "==============================================================================\n",
      "\n",
      "Notes:\n",
      "[1] Standard Errors assume that the covariance matrix of the errors is correctly specified.\n",
      "[2] The condition number is large, 3.58e+07. This might indicate that there are\n",
      "strong multicollinearity or other numerical problems.\n"
     ]
    }
   ],
   "source": [
    "model = sm.OLS(y, X)\n",
    "results = model.fit()\n",
    "print(results.summary())"
   ]
  },
  {
   "cell_type": "markdown",
   "metadata": {},
   "source": [
    "Model is pretty weak with a small rsquare indicating we're missing a lot of explanatory variables OR there's a lot of noise in the data. \n",
    "\n",
    "All below interpreted only with all other variables being held equal:\n",
    "longitude: Each degree of longitude adds about 4 bikes available indicating that the further west you are the less likely you are to find a bike available\n",
    "review count: Each review for a location had a very small negative impact on bike availability indicating the more well traveled an area (or more reviewed at least) the less likely to find a bike\n",
    "Bar & POI had a slightly larger impact each on number of bikes. The more locations there were the more likely to find a bike\n",
    "Restaurants had a smaller impact per restaurant, but there were more restaurants overall so in the same bucket as Bar & POI\n",
    "\n",
    "Overall, some work to be done to make this a worthwhile model. Next steps would be to grab bike data every 4-5 hours over a two week period and then take an average number of bikes available (or even availability at different times). This model is also built off Chicago data pulled in April and it's quite cold there so not as many people using bikes likely.\n",
    "\n",
    "Another issue with the model is it's based off only ~100 POIs per location and many locations likely have many more places near them than that. It would probably be possible to sample multiple times from the same API and make a composite, but this would push me over the my monthly requests so I opted not to."
   ]
  },
  {
   "cell_type": "code",
   "execution_count": 24,
   "metadata": {},
   "outputs": [
    {
     "data": {
      "text/plain": [
       "1        4.897703\n",
       "2        0.308698\n",
       "3       -5.046952\n",
       "5       16.195341\n",
       "6       -2.969362\n",
       "          ...    \n",
       "1346     3.004038\n",
       "1347    19.085447\n",
       "1348    -2.547563\n",
       "1349     7.314032\n",
       "1351    -2.244981\n",
       "Length: 1137, dtype: float64"
      ]
     },
     "execution_count": 24,
     "metadata": {},
     "output_type": "execute_result"
    }
   ],
   "source": [
    "residuals = results.resid\n",
    "residuals"
   ]
  },
  {
   "cell_type": "code",
   "execution_count": 28,
   "metadata": {},
   "outputs": [],
   "source": [
    "import scipy"
   ]
  },
  {
   "cell_type": "code",
   "execution_count": 27,
   "metadata": {},
   "outputs": [
    {
     "data": {
      "image/png": "[encoded data removed]",
      "text/plain": [
       "<Figure size 640x480 with 1 Axes>"
      ]
     },
     "metadata": {},
     "output_type": "display_data"
    }
   ],
   "source": [
    "sns.histplot(residuals)\n",
    "plt.show()"
   ]
  },
  {
   "cell_type": "code",
   "execution_count": 29,
   "metadata": {},
   "outputs": [
    {
     "data": {
      "text/plain": [
       "ShapiroResult(statistic=0.8916062116622925, pvalue=1.5757164358874304e-27)"
      ]
     },
     "execution_count": 29,
     "metadata": {},
     "output_type": "execute_result"
    }
   ],
   "source": [
    "scipy.stats.shapiro(residuals)\n",
    "#residuals are not normally distributed"
   ]
  },
  {
   "cell_type": "code",
   "execution_count": 30,
   "metadata": {},
   "outputs": [
    {
     "name": "stdout",
     "output_type": "stream",
     "text": [
      "1.1247954830538526e-09 7.19020661394235e-10\n"
     ]
    }
   ],
   "source": [
    "stat, p, f_stat, f_p = sm.stats.diagnostic.het_breuschpagan(residuals,results.model.exog)\n",
    "print(p,f_p)\n",
    "#Model is heteroskedastic "
   ]
  },
  {
   "cell_type": "code",
   "execution_count": 53,
   "metadata": {},
   "outputs": [],
   "source": [
    "#Log transformed number of bikes (adjusting for 0's) in order to hopefully eliminate assumption issues\n",
    "y = np.log(fulldf['freebikes']+.0001)\n",
    "\n",
    "\n",
    "X = fulldf.drop(columns = ['freebikes','slots','name','address','ll','latitude','longitude','avg_bar_rating','avg_restaurant_rating', 'avg_poi_rating'])\n",
    "X = sm.add_constant(X)"
   ]
  },
  {
   "cell_type": "code",
   "execution_count": 54,
   "metadata": {},
   "outputs": [
    {
     "name": "stdout",
     "output_type": "stream",
     "text": [
      "                            OLS Regression Results                            \n",
      "==============================================================================\n",
      "Dep. Variable:              freebikes   R-squared:                       0.180\n",
      "Model:                            OLS   Adj. R-squared:                  0.177\n",
      "Method:                 Least Squares   F-statistic:                     62.09\n",
      "Date:                Sat, 22 Apr 2023   Prob (F-statistic):           1.79e-47\n",
      "Time:                        14:39:03   Log-Likelihood:                -3387.5\n",
      "No. Observations:                1137   AIC:                             6785.\n",
      "Df Residuals:                    1132   BIC:                             6810.\n",
      "Df Model:                           4                                         \n",
      "Covariance Type:            nonrobust                                         \n",
      "================================================================================\n",
      "                   coef    std err          t      P>|t|      [0.025      0.975]\n",
      "--------------------------------------------------------------------------------\n",
      "const           -7.8313      0.514    -15.234      0.000      -8.840      -6.823\n",
      "review_count -3.738e-05   1.81e-05     -2.066      0.039   -7.29e-05   -1.88e-06\n",
      "Bar              0.0897      0.022      4.033      0.000       0.046       0.133\n",
      "POI              0.2406      0.027      8.772      0.000       0.187       0.294\n",
      "Restaurant       0.0449      0.014      3.107      0.002       0.017       0.073\n",
      "==============================================================================\n",
      "Omnibus:                     1445.298   Durbin-Watson:                   1.086\n",
      "Prob(Omnibus):                  0.000   Jarque-Bera (JB):               79.803\n",
      "Skew:                          -0.164   Prob(JB):                     4.69e-18\n",
      "Kurtosis:                       1.744   Cond. No.                     7.55e+04\n",
      "==============================================================================\n",
      "\n",
      "Notes:\n",
      "[1] Standard Errors assume that the covariance matrix of the errors is correctly specified.\n",
      "[2] The condition number is large, 7.55e+04. This might indicate that there are\n",
      "strong multicollinearity or other numerical problems.\n"
     ]
    }
   ],
   "source": [
    "model = sm.OLS(y, X)\n",
    "results = model.fit()\n",
    "print(results.summary())"
   ]
  },
  {
   "cell_type": "code",
   "execution_count": 55,
   "metadata": {},
   "outputs": [
    {
     "data": {
      "image/png": "[encoded data removed]",
      "text/plain": [
       "<Figure size 640x480 with 1 Axes>"
      ]
     },
     "metadata": {},
     "output_type": "display_data"
    }
   ],
   "source": [
    "residuals = results.resid\n",
    "sns.histplot(residuals)\n",
    "plt.show()"
   ]
  },
  {
   "cell_type": "code",
   "execution_count": 56,
   "metadata": {},
   "outputs": [
    {
     "data": {
      "text/plain": [
       "ShapiroResult(statistic=0.9364345073699951, pvalue=1.2768588944844764e-21)"
      ]
     },
     "execution_count": 56,
     "metadata": {},
     "output_type": "execute_result"
    }
   ],
   "source": [
    "scipy.stats.shapiro(residuals)\n",
    "#residuals are not normally distributed"
   ]
  },
  {
   "cell_type": "code",
   "execution_count": 57,
   "metadata": {},
   "outputs": [
    {
     "name": "stdout",
     "output_type": "stream",
     "text": [
      "1.0459799221275545e-25 3.76569966048307e-27\n"
     ]
    }
   ],
   "source": [
    "stat, p, f_stat, f_p = sm.stats.diagnostic.het_breuschpagan(residuals,results.model.exog)\n",
    "print(p,f_p)"
   ]
  },
  {
   "cell_type": "markdown",
   "metadata": {},
   "source": [
    "log transformation performed WORSE on tests, so recommend not using"
   ]
  },
  {
   "cell_type": "markdown",
   "metadata": {},
   "source": [
    "# Stretch"
   ]
  },
  {
   "cell_type": "markdown",
   "metadata": {},
   "source": [
    "How can you turn the regression model into a classification model?"
   ]
  },
  {
   "cell_type": "markdown",
   "metadata": {},
   "source": [
    "To turn this into a classification model we would need to transform the bikes variable into a categorical. So one way to do so would be to convert it to whether there are ANY bikes available or not,\n",
    "or we could do if there are a certain amount available. Then we'd run a similar analysis but with a logistic regression instead of linear."
   ]
  }
 ],
 "metadata": {
  "kernelspec": {
   "display_name": "Python 3 (ipykernel)",
   "language": "python",
   "name": "python3"
  },
  "language_info": {
   "codemirror_mode": {
    "name": "ipython",
    "version": 3
   },
   "file_extension": ".py",
   "mimetype": "text/x-python",
   "name": "python",
   "nbconvert_exporter": "python",
   "pygments_lexer": "ipython3",
   "version": "3.10.9"
  }
 },
 "nbformat": 4,
 "nbformat_minor": 4
}
