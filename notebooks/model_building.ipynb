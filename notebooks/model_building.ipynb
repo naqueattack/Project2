{
 "cells": [
  {
   "cell_type": "markdown",
   "metadata": {},
   "source": [
    "Build a regression model."
   ]
  },
  {
   "cell_type": "code",
   "execution_count": 58,
   "metadata": {},
   "outputs": [],
   "source": [
    "import pandas as pd\n",
    "import numpy as np\n",
    "import matplotlib.pyplot as plt\n",
    "import seaborn as sns\n",
    "import statsmodels.api as sm"
   ]
  },
  {
   "cell_type": "code",
   "execution_count": 59,
   "metadata": {},
   "outputs": [],
   "source": [
    "fulldf = pd.read_csv('fulldf.csv')"
   ]
  },
  {
   "cell_type": "code",
   "execution_count": 60,
   "metadata": {},
   "outputs": [
    {
     "data": {
      "text/plain": [
       "name                       0\n",
       "address                  643\n",
       "freebikes                  0\n",
       "slots                      0\n",
       "latitude                   0\n",
       "longitude                  0\n",
       "ll                         0\n",
       "review_count               0\n",
       "Bar                        0\n",
       "Restaurant                 0\n",
       "POI                        0\n",
       "avg_bar_rating             0\n",
       "avg_poi_rating             0\n",
       "avg_restaurant_rating      0\n",
       "dtype: int64"
      ]
     },
     "execution_count": 60,
     "metadata": {},
     "output_type": "execute_result"
    }
   ],
   "source": [
    "#drop nulls from rating variables for analysis\n",
    "fulldf = fulldf[(fulldf['avg_bar_rating'].isnull() == False) & (fulldf['avg_poi_rating'].isnull() == False)]\n",
    "fulldf.isnull().sum()"
   ]
  },
  {
   "cell_type": "code",
   "execution_count": 61,
   "metadata": {},
   "outputs": [],
   "source": [
    "#defining variables for all variables model\n",
    "y = fulldf['freebikes']\n",
    "\n",
    "X = fulldf.drop(columns = ['freebikes','slots','name','address','ll'])\n",
    "X = sm.add_constant(X)"
   ]
  },
  {
   "cell_type": "code",
   "execution_count": 62,
   "metadata": {
    "tags": []
   },
   "outputs": [
    {
     "name": "stdout",
     "output_type": "stream",
     "text": [
      "                            OLS Regression Results                            \n",
      "==============================================================================\n",
      "Dep. Variable:              freebikes   R-squared:                       0.184\n",
      "Model:                            OLS   Adj. R-squared:                  0.178\n",
      "Method:                 Least Squares   F-statistic:                     31.48\n",
      "Date:                Sat, 22 Apr 2023   Prob (F-statistic):           4.95e-50\n",
      "Time:                        15:48:05   Log-Likelihood:                -3515.1\n",
      "No. Observations:                1264   AIC:                             7050.\n",
      "Df Residuals:                    1254   BIC:                             7102.\n",
      "Df Model:                           9                                         \n",
      "Covariance Type:            nonrobust                                         \n",
      "=========================================================================================\n",
      "                            coef    std err          t      P>|t|      [0.025      0.975]\n",
      "-----------------------------------------------------------------------------------------\n",
      "const                   364.7530    213.205      1.711      0.087     -53.525     783.031\n",
      "latitude                 -0.3027      2.178     -0.139      0.889      -4.576       3.970\n",
      "longitude                 4.0234      2.932      1.372      0.170      -1.729       9.776\n",
      "review_count           -5.17e-05   1.48e-05     -3.503      0.000   -8.07e-05   -2.27e-05\n",
      "Bar                       0.1081      0.017      6.232      0.000       0.074       0.142\n",
      "Restaurant                0.0196      0.014      1.420      0.156      -0.007       0.047\n",
      "POI                       0.1581      0.027      5.842      0.000       0.105       0.211\n",
      "avg_bar_rating           -0.0084      0.130     -0.065      0.948      -0.263       0.246\n",
      "avg_poi_rating            0.0937      0.109      0.859      0.390      -0.120       0.308\n",
      "avg_restaurant_rating     0.1594      0.260      0.614      0.539      -0.350       0.669\n",
      "==============================================================================\n",
      "Omnibus:                      344.177   Durbin-Watson:                   1.653\n",
      "Prob(Omnibus):                  0.000   Jarque-Bera (JB):              957.858\n",
      "Skew:                           1.394   Prob(JB):                    1.01e-208\n",
      "Kurtosis:                       6.227   Cond. No.                     3.96e+07\n",
      "==============================================================================\n",
      "\n",
      "Notes:\n",
      "[1] Standard Errors assume that the covariance matrix of the errors is correctly specified.\n",
      "[2] The condition number is large, 3.96e+07. This might indicate that there are\n",
      "strong multicollinearity or other numerical problems.\n"
     ]
    }
   ],
   "source": [
    "model = sm.OLS(y, X)\n",
    "results = model.fit()\n",
    "print(results.summary())"
   ]
  },
  {
   "cell_type": "code",
   "execution_count": 63,
   "metadata": {},
   "outputs": [],
   "source": [
    "#Backwards stepwise model dropping in order: latitude, avg_bar_rating, avg_restaurant_rating, avg_poi_rating\n",
    "X = fulldf.drop(columns = ['freebikes','slots','name','address','ll','latitude','avg_bar_rating','avg_restaurant_rating', 'avg_poi_rating'])\n",
    "X = sm.add_constant(X)"
   ]
  },
  {
   "cell_type": "markdown",
   "metadata": {},
   "source": [
    "Provide model output and an interpretation of the results. "
   ]
  },
  {
   "cell_type": "code",
   "execution_count": 64,
   "metadata": {},
   "outputs": [],
   "source": [
    "from statsmodels.stats.outliers_influence import variance_inflation_factor as vif"
   ]
  },
  {
   "cell_type": "code",
   "execution_count": 65,
   "metadata": {},
   "outputs": [
    {
     "name": "stdout",
     "output_type": "stream",
     "text": [
      "       features           VIF   Pass\n",
      "0         const  3.115932e+06  False\n",
      "1     longitude  1.306118e+00   True\n",
      "2  review_count  5.063886e+00   True\n",
      "3           Bar  5.866527e+00   True\n",
      "4    Restaurant  2.956250e+00   True\n",
      "5           POI  1.177786e+00   True\n"
     ]
    }
   ],
   "source": [
    "#Run VIF \n",
    "vif_data = pd.DataFrame()\n",
    "vif_data[\"features\"] = X.columns\n",
    "\n",
    "vif_data[\"VIF\"] = [vif(X.values,i) for i in range(len(X.columns))]\n",
    "vif_data[\"Pass\"] = vif_data[\"VIF\"]<=10\n",
    "print(vif_data)"
   ]
  },
  {
   "cell_type": "code",
   "execution_count": 66,
   "metadata": {},
   "outputs": [
    {
     "name": "stdout",
     "output_type": "stream",
     "text": [
      "                            OLS Regression Results                            \n",
      "==============================================================================\n",
      "Dep. Variable:              freebikes   R-squared:                       0.183\n",
      "Model:                            OLS   Adj. R-squared:                  0.180\n",
      "Method:                 Least Squares   F-statistic:                     56.42\n",
      "Date:                Sat, 22 Apr 2023   Prob (F-statistic):           5.11e-53\n",
      "Time:                        15:48:09   Log-Likelihood:                -3516.0\n",
      "No. Observations:                1264   AIC:                             7044.\n",
      "Df Residuals:                    1258   BIC:                             7075.\n",
      "Df Model:                           5                                         \n",
      "Covariance Type:            nonrobust                                         \n",
      "================================================================================\n",
      "                   coef    std err          t      P>|t|      [0.025      0.975]\n",
      "--------------------------------------------------------------------------------\n",
      "const          317.2473    194.439      1.632      0.103     -64.214     698.708\n",
      "longitude        3.6222      2.219      1.632      0.103      -0.731       7.976\n",
      "review_count  -5.11e-05   1.47e-05     -3.476      0.001   -7.99e-05   -2.23e-05\n",
      "Bar              0.1108      0.017      6.494      0.000       0.077       0.144\n",
      "Restaurant       0.0258      0.012      2.140      0.033       0.002       0.049\n",
      "POI              0.1712      0.022      7.695      0.000       0.128       0.215\n",
      "==============================================================================\n",
      "Omnibus:                      345.315   Durbin-Watson:                   1.657\n",
      "Prob(Omnibus):                  0.000   Jarque-Bera (JB):              962.673\n",
      "Skew:                           1.398   Prob(JB):                    9.08e-210\n",
      "Kurtosis:                       6.234   Cond. No.                     3.61e+07\n",
      "==============================================================================\n",
      "\n",
      "Notes:\n",
      "[1] Standard Errors assume that the covariance matrix of the errors is correctly specified.\n",
      "[2] The condition number is large, 3.61e+07. This might indicate that there are\n",
      "strong multicollinearity or other numerical problems.\n"
     ]
    }
   ],
   "source": [
    "model = sm.OLS(y, X)\n",
    "results = model.fit()\n",
    "print(results.summary())"
   ]
  },
  {
   "cell_type": "markdown",
   "metadata": {},
   "source": [
    "Model is pretty weak with a small rsquare indicating we're missing a lot of explanatory variables OR there's a lot of noise in the data. \n",
    "\n",
    "All below interpreted only with all other variables being held equal:\n",
    "longitude: Each degree of longitude adds about 4 bikes available indicating that the further west you are the less likely you are to find a bike available\n",
    "review count: Each review for a location had a very small negative impact on bike availability indicating the more well traveled an area (or more reviewed at least) the less likely to find a bike\n",
    "Bar & POI had a slightly larger impact each on number of bikes. The more locations there were the more likely to find a bike\n",
    "Restaurants had a smaller impact per restaurant, but there were more restaurants overall so in the same bucket as Bar & POI\n",
    "\n",
    "Overall, some work to be done to make this a worthwhile model. Next steps would be to grab bike data every 4-5 hours over a two week period and then take an average number of bikes available (or even availability at different times). This model is also built off Chicago data pulled in April and it's quite cold there so not as many people using bikes likely.\n",
    "\n",
    "Another issue with the model is it's based off only ~100 POIs per location and many locations likely have many more places near them than that. It would probably be possible to sample multiple times from the same API and make a composite, but this would push me over the my monthly requests so I opted not to."
   ]
  },
  {
   "cell_type": "code",
   "execution_count": 67,
   "metadata": {},
   "outputs": [
    {
     "data": {
      "text/plain": [
       "0       -5.280501\n",
       "1        4.971295\n",
       "2        0.206127\n",
       "3       -5.188728\n",
       "4        5.886284\n",
       "          ...    \n",
       "1347    19.141640\n",
       "1348    -2.627392\n",
       "1349     7.400554\n",
       "1350    -2.107297\n",
       "1351    -2.164915\n",
       "Length: 1264, dtype: float64"
      ]
     },
     "execution_count": 67,
     "metadata": {},
     "output_type": "execute_result"
    }
   ],
   "source": [
    "residuals = results.resid\n",
    "residuals"
   ]
  },
  {
   "cell_type": "code",
   "execution_count": 68,
   "metadata": {},
   "outputs": [],
   "source": [
    "import scipy"
   ]
  },
  {
   "cell_type": "code",
   "execution_count": 69,
   "metadata": {},
   "outputs": [
    {
     "data": {
      "image/png": "[encoded data removed]",
      "text/plain": [
       "<Figure size 640x480 with 1 Axes>"
      ]
     },
     "metadata": {},
     "output_type": "display_data"
    }
   ],
   "source": [
    "sns.histplot(residuals)\n",
    "plt.show()"
   ]
  },
  {
   "cell_type": "code",
   "execution_count": 70,
   "metadata": {},
   "outputs": [
    {
     "data": {
      "text/plain": [
       "ShapiroResult(statistic=0.8990347385406494, pvalue=4.756162479309513e-28)"
      ]
     },
     "execution_count": 70,
     "metadata": {},
     "output_type": "execute_result"
    }
   ],
   "source": [
    "scipy.stats.shapiro(residuals)\n",
    "#residuals are not normally distributed"
   ]
  },
  {
   "cell_type": "code",
   "execution_count": 71,
   "metadata": {},
   "outputs": [
    {
     "name": "stdout",
     "output_type": "stream",
     "text": [
      "3.045994913080873e-10 1.935413880039101e-10\n"
     ]
    }
   ],
   "source": [
    "stat, p, f_stat, f_p = sm.stats.diagnostic.het_breuschpagan(residuals,results.model.exog)\n",
    "print(p,f_p)\n",
    "#Model is heteroskedastic "
   ]
  },
  {
   "cell_type": "code",
   "execution_count": 72,
   "metadata": {},
   "outputs": [],
   "source": [
    "#Log transformed number of bikes (adjusting for 0's) in order to hopefully eliminate assumption issues\n",
    "y = np.log(fulldf['freebikes']+.0001)\n",
    "\n",
    "\n",
    "X = fulldf.drop(columns = ['freebikes','slots','name','address','ll','latitude','longitude','avg_bar_rating','avg_restaurant_rating', 'avg_poi_rating'])\n",
    "X = sm.add_constant(X)"
   ]
  },
  {
   "cell_type": "code",
   "execution_count": 73,
   "metadata": {},
   "outputs": [
    {
     "name": "stdout",
     "output_type": "stream",
     "text": [
      "                            OLS Regression Results                            \n",
      "==============================================================================\n",
      "Dep. Variable:              freebikes   R-squared:                       0.186\n",
      "Model:                            OLS   Adj. R-squared:                  0.183\n",
      "Method:                 Least Squares   F-statistic:                     71.73\n",
      "Date:                Sat, 22 Apr 2023   Prob (F-statistic):           8.78e-55\n",
      "Time:                        15:48:17   Log-Likelihood:                -3757.0\n",
      "No. Observations:                1264   AIC:                             7524.\n",
      "Df Residuals:                    1259   BIC:                             7550.\n",
      "Df Model:                           4                                         \n",
      "Covariance Type:            nonrobust                                         \n",
      "================================================================================\n",
      "                   coef    std err          t      P>|t|      [0.025      0.975]\n",
      "--------------------------------------------------------------------------------\n",
      "const           -7.8286      0.492    -15.908      0.000      -8.794      -6.863\n",
      "review_count -3.911e-05   1.73e-05     -2.255      0.024   -7.31e-05   -5.08e-06\n",
      "Bar              0.0965      0.021      4.682      0.000       0.056       0.137\n",
      "Restaurant       0.0429      0.013      3.216      0.001       0.017       0.069\n",
      "POI              0.2431      0.026      9.373      0.000       0.192       0.294\n",
      "==============================================================================\n",
      "Omnibus:                     1022.332   Durbin-Watson:                   1.132\n",
      "Prob(Omnibus):                  0.000   Jarque-Bera (JB):               84.850\n",
      "Skew:                          -0.198   Prob(JB):                     3.76e-19\n",
      "Kurtosis:                       1.794   Cond. No.                     7.56e+04\n",
      "==============================================================================\n",
      "\n",
      "Notes:\n",
      "[1] Standard Errors assume that the covariance matrix of the errors is correctly specified.\n",
      "[2] The condition number is large, 7.56e+04. This might indicate that there are\n",
      "strong multicollinearity or other numerical problems.\n"
     ]
    }
   ],
   "source": [
    "model = sm.OLS(y, X)\n",
    "results = model.fit()\n",
    "print(results.summary())"
   ]
  },
  {
   "cell_type": "code",
   "execution_count": 74,
   "metadata": {},
   "outputs": [
    {
     "data": {
      "image/png": "[encoded data removed]",
      "text/plain": [
       "<Figure size 640x480 with 1 Axes>"
      ]
     },
     "metadata": {},
     "output_type": "display_data"
    }
   ],
   "source": [
    "residuals = results.resid\n",
    "sns.histplot(residuals)\n",
    "plt.show()"
   ]
  },
  {
   "cell_type": "code",
   "execution_count": 75,
   "metadata": {},
   "outputs": [
    {
     "data": {
      "text/plain": [
       "ShapiroResult(statistic=0.9396139979362488, pvalue=2.914312697311758e-22)"
      ]
     },
     "execution_count": 75,
     "metadata": {},
     "output_type": "execute_result"
    }
   ],
   "source": [
    "scipy.stats.shapiro(residuals)\n",
    "#residuals are not normally distributed"
   ]
  },
  {
   "cell_type": "code",
   "execution_count": 76,
   "metadata": {},
   "outputs": [
    {
     "name": "stdout",
     "output_type": "stream",
     "text": [
      "5.938437721080498e-28 1.727056365493783e-29\n"
     ]
    }
   ],
   "source": [
    "stat, p, f_stat, f_p = sm.stats.diagnostic.het_breuschpagan(residuals,results.model.exog)\n",
    "print(p,f_p)"
   ]
  },
  {
   "cell_type": "markdown",
   "metadata": {},
   "source": [
    "log transformation performed WORSE on tests, so recommend not using"
   ]
  },
  {
   "cell_type": "markdown",
   "metadata": {},
   "source": [
    "# Stretch"
   ]
  },
  {
   "cell_type": "markdown",
   "metadata": {},
   "source": [
    "How can you turn the regression model into a classification model?"
   ]
  },
  {
   "cell_type": "markdown",
   "metadata": {},
   "source": [
    "To turn this into a classification model we would need to transform the bikes variable into a categorical. So one way to do so would be to convert it to whether there are ANY bikes available or not,\n",
    "or we could do if there are a certain amount available. Then we'd run a similar analysis but with a logistic regression instead of linear."
   ]
  }
 ],
 "metadata": {
  "kernelspec": {
   "display_name": "Python 3 (ipykernel)",
   "language": "python",
   "name": "python3"
  },
  "language_info": {
   "codemirror_mode": {
    "name": "ipython",
    "version": 3
   },
   "file_extension": ".py",
   "mimetype": "text/x-python",
   "name": "python",
   "nbconvert_exporter": "python",
   "pygments_lexer": "ipython3",
   "version": "3.10.9"
  }
 },
 "nbformat": 4,
 "nbformat_minor": 4
}
