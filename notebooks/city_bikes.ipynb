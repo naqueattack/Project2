{
 "cells": [
  {
   "cell_type": "markdown",
   "metadata": {},
   "source": [
    "# CityBikes"
   ]
  },
  {
   "cell_type": "markdown",
   "metadata": {},
   "source": [
    "Send a request to CityBikes for the city of your choice. "
   ]
  },
  {
   "cell_type": "code",
   "execution_count": 2,
   "metadata": {},
   "outputs": [],
   "source": [
    "import requests\n",
    "import os\n",
    "import pandas as pd\n",
    "import numpy as np\n",
    "\n",
    "url2 = \"http://api.citybik.es/v2/networks/divvy\"\n",
    "\n",
    "result2 = requests.get(url2)\n",
    "stations = result2.json()['network']['stations']\n",
    "stations[0]\n",
    "\n",
    "#save json in case I need it later\n",
    "import json\n",
    "with open('citibike.json', 'w') as f:\n",
    "    json.dump(stations, f)"
   ]
  },
  {
   "cell_type": "markdown",
   "metadata": {},
   "source": [
    "Parse through the response to get the details you want for the bike stations in that city (latitude, longitude, number of bikes). "
   ]
  },
  {
   "cell_type": "code",
   "execution_count": null,
   "metadata": {},
   "outputs": [],
   "source": [
    "#make empty df\n",
    "bikedf = {'name':[],'address':[],'freebikes':[],'slots':[],'latitude':[],'longitude':[]}\n",
    "\n",
    "i = 0\n",
    "while i < len(stations):\n",
    "    #pull data from API json per station\n",
    "    latitude = stations[i]['latitude']\n",
    "    longitude = stations[i]['longitude']\n",
    "    name = stations[i]['name']\n",
    "    freebikes = stations[i]['free_bikes']\n",
    "    # slots = stations[i]['extra']['slots']\n",
    "    #address not present in all stations\n",
    "    try:\n",
    "        address = stations[i]['extra']['address']\n",
    "    except:\n",
    "        address = None\n",
    "        \n",
    "    #append variable information into table   \n",
    "    bikedf['name'].append(name)\n",
    "    bikedf['address'].append(address)\n",
    "    bikedf['freebikes'].append(freebikes)\n",
    "    bikedf['slots'].append(slots)\n",
    "    bikedf['latitude'].append(latitude)\n",
    "    bikedf['longitude'].append(longitude)\n",
    "    i+=1"
   ]
  },
  {
   "cell_type": "markdown",
   "metadata": {},
   "source": [
    "Put your parsed results into a DataFrame."
   ]
  },
  {
   "cell_type": "code",
   "execution_count": null,
   "metadata": {},
   "outputs": [],
   "source": [
    "bikedf = pd.DataFrame(bikedf)"
   ]
  },
  {
   "cell_type": "code",
   "execution_count": null,
   "metadata": {},
   "outputs": [],
   "source": [
    "bikedf.isnull().sum()"
   ]
  },
  {
   "cell_type": "code",
   "execution_count": null,
   "metadata": {},
   "outputs": [],
   "source": [
    "print(bikedf['freebikes'].value_counts())\n",
    "print(bikedf['slots'].value_counts())"
   ]
  },
  {
   "cell_type": "code",
   "execution_count": null,
   "metadata": {},
   "outputs": [],
   "source": [
    "bikedf.to_csv('bikedf.csv')"
   ]
  }
 ],
 "metadata": {
  "kernelspec": {
   "display_name": "Python 3 (ipykernel)",
   "language": "python",
   "name": "python3"
  },
  "language_info": {
   "codemirror_mode": {
    "name": "ipython",
    "version": 3
   },
   "file_extension": ".py",
   "mimetype": "text/x-python",
   "name": "python",
   "nbconvert_exporter": "python",
   "pygments_lexer": "ipython3",
   "version": "3.10.9"
  }
 },
 "nbformat": 4,
 "nbformat_minor": 4
}
